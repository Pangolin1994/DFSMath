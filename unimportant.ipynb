{
 "cells": [
  {
   "cell_type": "code",
   "execution_count": null,
   "metadata": {
    "pycharm": {
     "name": "#%%\n"
    }
   },
   "outputs": [],
   "source": [
    "# Filter features based of postfix\n",
    "def columns_by_postfix(columns, postfix):\n",
    "    result = [col for col in columns if postfix in col]\n",
    "    result.sort()\n",
    "    return result\n",
    "\n",
    "def league_and_non_league_columns(columns, suffix):\n",
    "    suf_columns = columns_by_postfix(columns, suffix)\n",
    "    leagues = columns_by_postfix(suf_columns, 'league')\n",
    "    non_leagues = [col for col in suf_columns if col not in leagues]\n",
    "    return non_leagues, leagues"
   ]
  },
  {
   "cell_type": "code",
   "execution_count": null,
   "metadata": {
    "pycharm": {
     "name": "#%%\n"
    }
   },
   "outputs": [],
   "source": [
    "# Divide columns list by mid index\n",
    "def divide_columns(frame, suffix, postfix, is_league=False):\n",
    "    if not is_league:\n",
    "        cols = league_and_non_league_columns(frame.columns, suffix)[0]\n",
    "    else:\n",
    "        cols = league_and_non_league_columns(frame.columns, suffix)[1]\n",
    "    selected_cols = columns_by_postfix(cols, postfix)\n",
    "    mid = len(selected_cols) // 2\n",
    "    features_1 = frame[selected_cols[:mid]]\n",
    "    features_1.index = range(len(features_1))\n",
    "    features_2 = frame[selected_cols[mid:]]\n",
    "    features_2.index = range(len(features_2))\n",
    "    return features_1, features_2"
   ]
  },
  {
   "cell_type": "code",
   "execution_count": null,
   "metadata": {
    "pycharm": {
     "name": "#%%\n"
    }
   },
   "outputs": [],
   "source": [
    "# Boxplot for multiple features in dataframe\n",
    "# Builds 2 plots for better readability\n",
    "def multiple_boxplot(f_1, f_2):\n",
    "    fig, ax = plt.subplots(ncols=2, figsize=(20, 14))\n",
    "    flier_props = dict(markerfacecolor='r', marker='o')\n",
    "    median_props = dict(linewidth=2.5, color='r')\n",
    "    box_props = dict(linewidth=3, color='darkgoldenrod')\n",
    "    mean_props = dict(marker='D', markerfacecolor='blue', markersize=12)\n",
    "    bxp_list = []\n",
    "    xlabels = []\n",
    "    for (ax, f) in zip(ax, [f_1, f_2]):\n",
    "        bxp_dict = ax.boxplot(f.to_numpy(), labels=f.columns, showmeans=True,\n",
    "                              meanprops=mean_props, flierprops=flier_props,\n",
    "                              boxprops=box_props, medianprops=median_props,\n",
    "                              widths=0.75)        \n",
    "        plt.draw()\n",
    "        ax.set_xticklabels(ax.get_xticklabels(), rotation=45, ha='right')\n",
    "        bxp_list.append(bxp_dict)\n",
    "        xlabels.append(ax.get_xticklabels())\n",
    "    plt.subplots_adjust(wspace=0.1)\n",
    "    return bxp_list, xlabels"
   ]
  },
  {
   "cell_type": "code",
   "execution_count": null,
   "metadata": {
    "pycharm": {
     "name": "#%%\n"
    }
   },
   "outputs": [],
   "source": [
    "def multiple_distplot(frame, features):\n",
    "    fig, axes = plt.subplots(len(features), figsize=(20, 8))\n",
    "    for (f, ax) in zip(features, axes):\n",
    "        sns.distplot(frame[f], bins=20, color='blue', label=f,\n",
    "                     fit=stats.norm, kde=False, ax=ax)\n",
    "        \n",
    "        chart_box = ax.get_position()\n",
    "        ax.set_position([chart_box.x0, chart_box.y0,\n",
    "                         chart_box.width, chart_box.height*0.8])\n",
    "        ax.legend(loc='upper center', bbox_to_anchor=(0.5, 1.1),\n",
    "                  shadow=True, ncol=1, fontsize=12)\n",
    "        ax.grid(which='major', color='grey')"
   ]
  },
  {
   "cell_type": "code",
   "execution_count": null,
   "metadata": {
    "pycharm": {
     "name": "#%%\n"
    }
   },
   "outputs": [],
   "source": [
    "pp_ranges = ['90_', '180_', '540_', '1350_', '2700_', '5400_', '8100_', '10800_']\n",
    "pg_ranges = ['1_', '2_', '6_', '15_', '30_', '60_', '90_', '120_']\n",
    "league_ranges = ['10_', '30_', '75_', '150_', '300_', '450_', '600_']\n",
    "\n",
    "nl_cols, l_cols = league_and_non_league_columns(df.columns, 'sma')\n",
    "\n",
    "pp_cols = columns_by_postfix(nl_cols, 'pp')\n",
    "pg_cols = columns_by_postfix(nl_cols, 'pg')\n",
    "lpp_cols = columns_by_postfix(l_cols, 'pp')\n",
    "lpg_cols = columns_by_postfix(l_cols, 'pg')\n",
    "\n",
    "pp_cols_by_range = [columns_by_postfix(pp_cols, rn) for rn in pp_ranges]\n",
    "pg_cols_by_range = [columns_by_postfix(pg_cols, rn) for rn in pg_ranges]\n",
    "lpp_cols_by_range = [columns_by_postfix(lpp_cols, rn) for rn in league_ranges]\n",
    "lpg_cols_by_range = [columns_by_postfix(lpg_cols, rn) for rn in league_ranges]"
   ]
  },
  {
   "cell_type": "code",
   "execution_count": null,
   "metadata": {
    "pycharm": {
     "name": "#%%\n"
    }
   },
   "outputs": [],
   "source": [
    "# Plot multiple plots\n",
    "# postfix - can has only two values: 'pp' and 'pg'\n",
    "# is_league - indicates whether we want to plot league columns or not\n",
    "def multiple_plot(frame, suffix, postfix, colors, from_index,\n",
    "                  to_index=None, is_league=False):\n",
    "    if not is_league:\n",
    "        cols = league_and_non_league_columns(frame.columns, suffix)[0]\n",
    "    else:\n",
    "        cols = league_and_non_league_columns(frame.columns, suffix)[1]\n",
    "    selected_cols = columns_by_postfix(cols, postfix)\n",
    "    if to_index is None:\n",
    "        features = frame[selected_cols[from_index:]]\n",
    "    else:\n",
    "        features = frame[selected_cols[from_index:to_index]]\n",
    "    features.index = range(len(features))\n",
    "    \n",
    "    fig, ax = plt.subplots(figsize=(20, 15))\n",
    "    for (column, color) in zip(features.columns, colors):\n",
    "        ax.plot(features.loc[:, column] * 10, color=color, label=column)\n",
    "    ax.plot(frame['fp0'] * 0.01, color='#ab3f48', label='fp0', linewidth=3)\n",
    "    legend = ax.legend(loc='upper left', shadow=True, fontsize=12)\n",
    "    legend.get_frame().set_facecolor('w')"
   ]
  },
  {
   "cell_type": "code",
   "execution_count": null,
   "metadata": {
    "pycharm": {
     "name": "#%%\n"
    }
   },
   "outputs": [],
   "source": [
    "colors = ['b', 'g', 'r', 'y', 'c', 'm', 'k', '#bc9fdd', '#d3d3d3']\n",
    "\n",
    "# Strike outs\n",
    "#multiple_plot(sample, 'hr', 'pp', colors, 0, 4)\n",
    "#multiple_plot(sample, 'hr', 'pp', colors, 4)"
   ]
  },
  {
   "cell_type": "code",
   "execution_count": null,
   "metadata": {
    "pycharm": {
     "name": "#%%\n"
    }
   },
   "outputs": [],
   "source": []
  }
 ],
 "metadata": {
  "kernelspec": {
   "display_name": "Python 3",
   "language": "python",
   "name": "python3"
  },
  "language_info": {
   "codemirror_mode": {
    "name": "ipython",
    "version": 3
   },
   "file_extension": ".py",
   "mimetype": "text/x-python",
   "name": "python",
   "nbconvert_exporter": "python",
   "pygments_lexer": "ipython3",
   "version": "3.6.5"
  },
  "pycharm": {
   "stem_cell": {
    "cell_type": "raw",
    "source": [],
    "metadata": {
     "collapsed": false
    }
   }
  }
 },
 "nbformat": 4,
 "nbformat_minor": 1
}